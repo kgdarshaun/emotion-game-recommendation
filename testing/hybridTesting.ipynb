{
 "cells": [
  {
   "cell_type": "code",
   "execution_count": 1,
   "metadata": {},
   "outputs": [],
   "source": [
    "import pandas as pd\n",
    "content=pd.read_csv('cg_content_based.csv')\n",
    "collaborative=pd.read_csv('cg_collaborative.csv')\n",
    "review_df=pd.read_json('../dataset/reviews.jl',lines=True,encoding='utf-8')\n",
    "game_df_original=pd.read_json('../dataset/games.jl',lines=True,encoding='utf-8')"
   ]
  },
  {
   "cell_type": "code",
   "execution_count": 2,
   "metadata": {},
   "outputs": [],
   "source": [
    "content=content[['user_id','product_id','recommended']]\n",
    "collaborative=collaborative[['user_id','product_id','recommended']]\n",
    "\n",
    "#Merging the datasets to find the common rows between them\n",
    "merged_df = pd.merge(content, collaborative, on=['user_id', 'product_id','recommended'], how='inner')"
   ]
  },
  {
   "cell_type": "code",
   "execution_count": 3,
   "metadata": {},
   "outputs": [],
   "source": [
    "#Randomly rearrgaing the dataset\n",
    "merged_df=merged_df.sample(merged_df.shape[0], random_state=50)\n",
    "\n",
    "#Getting 80 percentage of the data as training data\n",
    "merged_df_train=merged_df.head(int(len(merged_df)*(80/100)))\n",
    "merged_df_test= merged_df[~merged_df.index.isin(merged_df_train.index)]"
   ]
  },
  {
   "cell_type": "code",
   "execution_count": 4,
   "metadata": {},
   "outputs": [],
   "source": [
    "#Pivot table creation for collaborative filtering\n",
    "user_game_df = pd.pivot_table(merged_df_train,index=['user_id'], columns=['product_id'], values='recommended')\n",
    "\n",
    "#Finding df_tags for content-based filtering \n",
    "game_df = game_df_original[['tags','id']].dropna(subset=['tags', 'id'])\n",
    "game_df = game_df.assign(genres=game_df['tags'].str.split(', ')).explode('tags')\n",
    "game_df = game_df[['tags','id']]\n",
    "one_hot_df = pd.get_dummies(game_df['tags'], prefix='tags')\n",
    "result_df = pd.concat([game_df['id'], one_hot_df], axis=1)\n",
    "df_tags = result_df.groupby('id').sum()\n",
    "df_tags.index = df_tags.index.astype(int)\n",
    "df_tags.fillna(0, inplace=True)"
   ]
  },
  {
   "cell_type": "code",
   "execution_count": 5,
   "metadata": {},
   "outputs": [],
   "source": [
    "def recommendation_colla(user_id):\n",
    "\n",
    "    # Getting games played by the particular user_id\n",
    "    random_user_df = user_game_df[user_game_df.index == user_id]\n",
    "    games_watched = random_user_df.columns[random_user_df.notna().any()].tolist()\n",
    "\n",
    "    # Restricting columns to only the games played by the particular user\n",
    "    games_watched_df = user_game_df[games_watched]\n",
    "    user_game_count = games_watched_df.T.notnull().sum()\n",
    "    user_game_count = user_game_count.reset_index()\n",
    "    user_game_count.columns = [\"user_id\", \"game_count\"]\n",
    "    users_same_games = user_game_count[user_game_count[\"game_count\"] > 0][\"user_id\"]\n",
    "    final_df = pd.concat([games_watched_df[games_watched_df.index.isin(users_same_games.values)],\n",
    "                          random_user_df[games_watched]])\n",
    "\n",
    "    # Finding correlation between users who have played the same games played the particular user\n",
    "    correlation_df = final_df.T.corr(\n",
    "        method='kendall').unstack().sort_values().drop_duplicates()\n",
    "    correlation_df = pd.DataFrame(correlation_df, columns=[\"corr\"])\n",
    "    correlation_df.index.names = ['user_id_1', 'user_id_2']\n",
    "    correlation_df = correlation_df.reset_index()\n",
    "\n",
    "    # Finding positively correlated users\n",
    "    positive_corr_users = correlation_df[(correlation_df[\"user_id_1\"] == user_id) & (\n",
    "        correlation_df[\"corr\"] >= 0)][[\"user_id_2\", \"corr\"]].reset_index(drop=True)\n",
    "    positive_corr_users = positive_corr_users.sort_values(by='corr', ascending=False)\n",
    "    positive_corr_users.rename(columns={\"user_id_2\": \"user_id\"}, inplace=True)\n",
    "    positive_corr_users_ratings = positive_corr_users.merge(\n",
    "        review_df[[\"user_id\", \"product_id\", \"recommended\"]], how='inner')\n",
    "    positive_corr_users_ratings = positive_corr_users_ratings[positive_corr_users_ratings[\"user_id\"] != user_id]\n",
    "    positive_corr_users_ratings['weighted_rating'] = positive_corr_users_ratings['corr'] * \\\n",
    "        positive_corr_users_ratings['recommended']\n",
    "\n",
    "    recommendation_df = positive_corr_users_ratings.groupby(\n",
    "        'product_id').agg({\"weighted_rating\": \"mean\"})\n",
    "    recommendation_df = recommendation_df.reset_index()\n",
    "    recommendation_df.sort_values(by='weighted_rating', ascending=False).head()\n",
    "    games_to_be_recommend = recommendation_df[recommendation_df[\"weighted_rating\"] > 0].sort_values(\n",
    "        \"weighted_rating\", ascending=False)\n",
    "    final_game_suggestions = games_to_be_recommend.merge(\n",
    "        game_df_original[[\"id\", \"title\"]], left_on='product_id', right_on='id')[['product_id', 'weighted_rating']]\n",
    "    final_game_suggestions = final_game_suggestions.values.tolist()\n",
    "    return final_game_suggestions\n"
   ]
  },
  {
   "cell_type": "code",
   "execution_count": 6,
   "metadata": {},
   "outputs": [],
   "source": [
    "from sklearn.metrics.pairwise import cosine_similarity\n",
    "def recommendation_content(user_id):\n",
    "\n",
    "    # Creating a user vector (user profile)\n",
    "    random_user_vec = merged_df_train[merged_df_train.user_id == user_id][[\n",
    "        'product_id', 'recommended']]\n",
    "    random_user_vec.set_index('product_id', inplace=True)\n",
    "    random_user_vec.fillna(0, inplace=True)\n",
    "    recommended_game_count = len(random_user_vec[random_user_vec > 0])\n",
    "    random_user_vec = random_user_vec.squeeze()\n",
    "    game_tag_pivot = df_tags.mul(random_user_vec, axis=0)\n",
    "    game_tag_pivot.fillna(0, inplace=True)\n",
    "    user_profile = game_tag_pivot.sum()/recommended_game_count\n",
    "\n",
    "    # Finding already played and reviewed games\n",
    "    played_games = random_user_vec.index\n",
    "\n",
    "    # Finding similarity between user profile and games (via tags)\n",
    "    cos_sim = cosine_similarity([user_profile], df_tags)\n",
    "    cos_sim_df = pd.DataFrame(\n",
    "        {'cosine_similarity': cos_sim[0], 'ind': df_tags.index})\n",
    "\n",
    "    # Making sure already playes games are not recommended\n",
    "    reco_games = cos_sim_df[~(cos_sim_df.ind.isin(played_games))].sort_values(\n",
    "        by='cosine_similarity', ascending=False)[['ind', 'cosine_similarity']]\n",
    "\n",
    "    reco_games.set_index('ind', inplace=True)\n",
    "    final_game_suggestions = game_df_original[game_df_original.id.isin(\n",
    "        reco_games.index)][['id']]\n",
    "    final_game_suggestions = final_game_suggestions.merge(\n",
    "        reco_games, left_on='id', right_on='ind')[['id', 'cosine_similarity']]\n",
    "    final_game_suggestions = final_game_suggestions.values.tolist()\n",
    "    return final_game_suggestions\n"
   ]
  },
  {
   "cell_type": "code",
   "execution_count": 7,
   "metadata": {},
   "outputs": [],
   "source": [
    "#Function to calculate hybrid recommendations\n",
    "def hybrid_weight(colla_list,content_list):\n",
    "    if(len(colla_list)>0) & (len(content_list)>0):\n",
    "        df1 = pd.DataFrame(colla_list)\n",
    "        df1.columns =['product_id','similarity']\n",
    "        df2 = pd.DataFrame(content_list)\n",
    "        df2.columns =['product_id','similarity']            \n",
    "        joined_results= df1.merge(df2, on='product_id',how='inner')\n",
    "        joined_results['weighted_avg']=(joined_results['similarity_x']*0.2)+(joined_results['similarity_y']*0.8)\n",
    "        joined_results=joined_results[['product_id','weighted_avg']]\n",
    "    elif len(colla_list)>0:\n",
    "        joined_results = pd.DataFrame(colla_list)\n",
    "        joined_results.columns =['product_id','similarity']\n",
    "    elif len(content_list)>0:\n",
    "        joined_results = pd.DataFrame(content_list)\n",
    "        joined_results.columns =['product_id','similarity']\n",
    "    else:\n",
    "        joined_results = pd.DataFrame([])\n",
    "        joined_results.columns =['product_id','similarity']\n",
    "\n",
    "    return joined_results.values.tolist()\n"
   ]
  },
  {
   "cell_type": "code",
   "execution_count": 8,
   "metadata": {},
   "outputs": [],
   "source": [
    "#Hybrid ROC Calculation\n",
    "from collections import defaultdict\n",
    "\n",
    "def ROC(list_of_users,threshold):\n",
    "    \n",
    "    user_predictions = defaultdict(list)\n",
    "   \n",
    "    for uid in list_of_users:\n",
    "        pred=hybrid_weight(recommendation_colla(uid),recommendation_content(uid))\n",
    "        user_predictions[uid].append(pred)        \n",
    "    \n",
    "    om_specificity = dict()\n",
    "    sensitivity = dict()\n",
    "    for uid, games in user_predictions.items():      \n",
    "        \n",
    "        # Recommended liked games\n",
    "        reco_l_games = [product_id for product_id, weighted_avg in games[0] if weighted_avg > threshold]\n",
    "        reco_l_games = set(reco_l_games)     \n",
    "\n",
    "        #Recommended unliked games\n",
    "        reco_ul_games = [product_id for product_id, weighted_avg in games[0] if weighted_avg < threshold]\n",
    "        reco_ul_games=set(reco_ul_games)\n",
    "\n",
    "        common_games_t = merged_df_test[merged_df_test.user_id==uid]        \n",
    "\n",
    "        ul_games = common_games_t[common_games_t.recommended == 0]['product_id'].values.tolist()\n",
    "        ul_games=set(ul_games)\n",
    "        l_games = common_games_t[common_games_t.recommended == 1]['product_id'].values.tolist()\n",
    "        l_games=set(l_games)     \n",
    "\n",
    "        #Confusion matrix calculation\n",
    "        true_positives = l_games & reco_l_games\n",
    "        false_negatives = ul_games & reco_ul_games\n",
    "        false_positives = ul_games & reco_l_games\n",
    "        true_negatives = l_games & reco_ul_games        \n",
    "\n",
    "        om_specificity[uid] = len(false_positives) / (len(false_positives) + len(true_negatives)) if (len(false_positives) + len(true_negatives)) != 0 else 0\n",
    "        sensitivity[uid] = len(true_positives) / (len(true_positives) + len(false_negatives)) if (len(true_positives) + len(false_negatives)) != 0 else 0    \n",
    "\n",
    "    return sensitivity, om_specificity"
   ]
  },
  {
   "cell_type": "code",
   "execution_count": 9,
   "metadata": {},
   "outputs": [],
   "source": [
    "#Creating a list of threshold values for ROC_AUC calculation\n",
    "number_list = []\n",
    "s = 0\n",
    "e = 1\n",
    "number_gap = 0.1\n",
    "for i in range(int((e-s)/number_gap)+1):\n",
    "    number_list.append(s + i*number_gap)\n",
    "\n",
    "#Cumulating list of users common between training and testing data    \n",
    "list_of_users = list(set(merged_df_train.user_id) & set(merged_df_test.user_id))\n",
    "list_of_users=[int(i) for i in list_of_users]"
   ]
  },
  {
   "cell_type": "code",
   "execution_count": 12,
   "metadata": {},
   "outputs": [],
   "source": [
    "# Storing user list for testing\n",
    "pd.DataFrame({'user list': list_of_users}).to_csv(\"user_list.csv\")"
   ]
  },
  {
   "cell_type": "code",
   "execution_count": 41,
   "metadata": {},
   "outputs": [
    {
     "name": "stdout",
     "output_type": "stream",
     "text": [
      "0.9117647058823529\n",
      "0.6176470588235294\n",
      "0.9117647058823529\n",
      "0.611764705882353\n",
      "0.9088235294117647\n",
      "0.5757002801120449\n",
      "0.8719049741108564\n",
      "0.47843031151854687\n",
      "0.7789734974760821\n",
      "0.3448349036584331\n",
      "0.6257352413061755\n",
      "0.1803743641978936\n",
      "0.3576563142739613\n",
      "0.04819749646739265\n",
      "0.1019140989729225\n",
      "0.011519607843137256\n",
      "0.029411764705882353\n",
      "0.0\n",
      "0.029411764705882353\n",
      "0.0\n",
      "0.0\n",
      "0.0\n"
     ]
    }
   ],
   "source": [
    "#Sensitivity and 1-Specificity calculation for ROC_AUC calcuation \n",
    "x =list()\n",
    "y =list()\n",
    "for i in number_list:\n",
    "    sensitivity, om_specificity = ROC(list_of_users,i)\n",
    "    print(sum(sens for sens in sensitivity.values()) / len(sensitivity))\n",
    "    print(sum(oms for oms in om_specificity.values()) / len(om_specificity))\n",
    "    y.append(sum(sens for sens in sensitivity.values()) / len(sensitivity))\n",
    "    x.append(sum(oms for oms in om_specificity.values()) / len(om_specificity))"
   ]
  },
  {
   "cell_type": "code",
   "execution_count": 48,
   "metadata": {},
   "outputs": [
    {
     "data": {
      "image/png": "[encoded data removed]",
      "text/plain": [
       "<Figure size 640x480 with 1 Axes>"
      ]
     },
     "metadata": {},
     "output_type": "display_data"
    }
   ],
   "source": [
    "import matplotlib.pyplot as plt\n",
    "from sklearn.metrics import auc\n",
    "fig, ax = plt.subplots()\n",
    "\n",
    "ax.plot(x, y, color='green')\n",
    "ax.set_xlabel('1-specificity')\n",
    "ax.set_ylabel('sensitivity')\n",
    "\n",
    "plt.savefig('ROC_Hybrid.png', dpi=300, bbox_inches='tight')\n",
    "plt.show()"
   ]
  },
  {
   "cell_type": "code",
   "execution_count": 49,
   "metadata": {},
   "outputs": [
    {
     "name": "stdout",
     "output_type": "stream",
     "text": [
      "0.424757984317296\n"
     ]
    }
   ],
   "source": [
    "roc_auc = auc(x, y)\n",
    "\n",
    "# Print the AUC value\n",
    "print(roc_auc)"
   ]
  },
  {
   "cell_type": "code",
   "execution_count": 50,
   "metadata": {},
   "outputs": [],
   "source": [
    "#Saving data for final plot\n",
    "hybrid_df = pd.DataFrame({'x': x, 'y': y})\n",
    "hybrid_df.to_csv(\"ROC_hybrid_data.csv\")"
   ]
  }
 ],
 "metadata": {
  "kernelspec": {
   "display_name": "Python 3",
   "language": "python",
   "name": "python3"
  },
  "language_info": {
   "codemirror_mode": {
    "name": "ipython",
    "version": 3
   },
   "file_extension": ".py",
   "mimetype": "text/x-python",
   "name": "python",
   "nbconvert_exporter": "python",
   "pygments_lexer": "ipython3",
   "version": "3.10.7"
  },
  "orig_nbformat": 4
 },
 "nbformat": 4,
 "nbformat_minor": 2
}
