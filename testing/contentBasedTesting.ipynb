{
  "cells": [
    {
      "cell_type": "code",
      "execution_count": 1,
      "metadata": {
        "id": "_pIk1YMHq9mg"
      },
      "outputs": [],
      "source": [
        "import pandas as pd\n",
        "import numpy as np\n",
        "from sklearn.metrics.pairwise import cosine_similarity\n",
        "from collections import defaultdict\n",
        "\n",
        "# Reading the dataset\n",
        "game_df_original = pd.read_json('../dataset/games.jl', lines=True, encoding='utf-8')\n",
        "review_df = pd.read_json('../dataset/reviews.jl', lines=True, encoding='utf-8')\n",
        "\n",
        "# Create a dataframe of tags for content based filtering\n",
        "game_df = game_df_original[['tags','id']].dropna(subset=['tags', 'id'])\n",
        "game_df = game_df.assign(genres=game_df['tags'].str.split(', ')).explode('tags')\n",
        "game_df = game_df[['tags','id']]\n",
        "one_hot_df = pd.get_dummies(game_df['tags'], prefix='tags')\n",
        "result_df = pd.concat([game_df['id'], one_hot_df], axis=1)\n",
        "df_tags = result_df.groupby('id').sum()\n",
        "df_tags.index = df_tags.index.astype(int)\n",
        "df_tags.fillna(0, inplace=True)\n",
        "\n",
        "# Cleaning reviews dataframe\n",
        "review_df = review_df[['product_id', 'recommended', 'user_id']]\n",
        "review_df = review_df.drop_duplicates(subset=['product_id', 'user_id'])\n",
        "review_df = review_df.dropna()\n",
        "\n",
        "# Checking if the product id(game id) in the review data is matching the id(game id) in the games data as it might be an issue in some cases\n",
        "game_index = game_df.id.values\n",
        "common_games = (review_df['product_id'].isin(game_index))\n",
        "review_df = review_df.loc[common_games]\n",
        "\n",
        "# Seleting the reviews of users who have given minimum 15 reviews\n",
        "user_review_count = review_df.groupby('user_id')['product_id'].count()\n",
        "user_review_index = user_review_count[user_review_count > 15].index\n",
        "review_df_min15 = review_df[(review_df[\"user_id\"].isin(user_review_index))]\n",
        "\n",
        "# Resampling the data\n",
        "review_df_min15 = review_df_min15.sample(\n",
        "    review_df_min15.shape[0], random_state=50)\n",
        "\n",
        "# Getting training data and testing data with a 80/20 split\n",
        "review_df_min15_train = review_df_min15.head(\n",
        "    int(len(review_df_min15)*(80/100)))\n",
        "review_df_min15_test = review_df_min15[~review_df_min15.index.isin(\n",
        "    review_df_min15_train.index)]\n",
        "\n",
        "# Creaing this for finding hybrid ROC-AUC\n",
        "review_df_min15[['user_id', 'product_id', 'recommended']].to_csv('cg_content_based.csv')\n",
        "\n",
        "# Function to find recommendations for a given user_id\n",
        "def recommendation(user_id):\n",
        "\n",
        "    # Creating a user vector (user profile)\n",
        "    random_user_vec = review_df_min15_train[review_df_min15_train.user_id == user_id][[\n",
        "        'product_id', 'recommended']]\n",
        "    random_user_vec.set_index('product_id', inplace=True)\n",
        "    random_user_vec.fillna(0, inplace=True)\n",
        "    recommended_game_count = len(random_user_vec[random_user_vec > 0])\n",
        "    random_user_vec = random_user_vec.squeeze()\n",
        "    game_tag_pivot = df_tags.mul(random_user_vec, axis=0)\n",
        "    game_tag_pivot.fillna(0, inplace=True)\n",
        "    user_profile = game_tag_pivot.sum()/recommended_game_count\n",
        "\n",
        "    # Finding already played and reviewed games\n",
        "    played_games = random_user_vec.index\n",
        "\n",
        "    # Finding similarity between user profile and games (via tags)\n",
        "    cos_sim = cosine_similarity([user_profile], df_tags)\n",
        "    cos_sim_df = pd.DataFrame(\n",
        "        {'cosine_similarity': cos_sim[0], 'ind': df_tags.index})\n",
        "\n",
        "    # Making sure already playes games are not recommended\n",
        "    reco_games = cos_sim_df[~(cos_sim_df.ind.isin(played_games))].sort_values(\n",
        "        by='cosine_similarity', ascending=False)[['ind', 'cosine_similarity']]\n",
        "\n",
        "    reco_games.set_index('ind', inplace=True)\n",
        "    final_game_suggestions = game_df_original[game_df_original.id.isin(\n",
        "        reco_games.index)][['id']]\n",
        "    final_game_suggestions = final_game_suggestions.merge(\n",
        "        reco_games, left_on='id', right_on='ind')[['id', 'cosine_similarity']]\n",
        "    final_game_suggestions = final_game_suggestions.values.tolist()\n",
        "    return final_game_suggestions\n",
        "\n",
        "\n",
        "# Function to calculate ROC\n",
        "def ROC(list_of_users, threshold):\n",
        "\n",
        "    user_predictions = defaultdict(list)\n",
        "\n",
        "    for uid in list_of_users:\n",
        "        pred = recommendation(uid)\n",
        "        user_predictions[uid].append(pred)\n",
        "\n",
        "    om_specificity = dict()\n",
        "    sensitivity = dict()\n",
        "    for uid, games in user_predictions.items():\n",
        "\n",
        "        # Recommended liked games\n",
        "        reco_l_games = [product_id for product_id,\n",
        "                        weighted_avg in games[0] if weighted_avg > threshold]\n",
        "        reco_l_games = set(reco_l_games)\n",
        "\n",
        "        # Recommended unliked games\n",
        "        reco_ul_games = [product_id for product_id,\n",
        "                         weighted_avg in games[0] if weighted_avg < threshold]\n",
        "        reco_ul_games = set(reco_ul_games)\n",
        "\n",
        "        common_games_t = review_df_min15_test[review_df_min15_test.user_id == uid]\n",
        "        ul_games = common_games_t[common_games_t.recommended ==\n",
        "                                  0]['product_id'].values.tolist()\n",
        "        ul_games = set(ul_games)\n",
        "        l_games = common_games_t[common_games_t.recommended ==\n",
        "                                 1]['product_id'].values.tolist()\n",
        "        l_games = set(l_games)\n",
        "\n",
        "        # Confusion matrix calculation\n",
        "        true_positives = l_games & reco_l_games\n",
        "        false_negatives = ul_games & reco_ul_games\n",
        "        false_positives = ul_games & reco_l_games\n",
        "        true_negatives = l_games & reco_ul_games\n",
        "\n",
        "        om_specificity[uid] = len(false_positives) / (len(false_positives) + len(\n",
        "            true_negatives)) if (len(false_positives) + len(true_negatives)) != 0 else 0\n",
        "        sensitivity[uid] = len(true_positives) / (len(true_positives) + len(\n",
        "            false_negatives)) if (len(true_positives) + len(false_negatives)) != 0 else 0\n",
        "\n",
        "    return sensitivity, om_specificity\n"
      ]
    },
    {
      "cell_type": "code",
      "execution_count": 2,
      "metadata": {},
      "outputs": [],
      "source": [
        "#Creating a list of threshold values for ROC_AUC calculation\n",
        "number_list = []\n",
        "s = 0\n",
        "e = 1\n",
        "number_gap = 0.1\n",
        "for i in range(int((e-s)/number_gap)+1):\n",
        "    number_list.append(s + i*number_gap)\n",
        "\n",
        "#Cumulating list of users common between training and testing data    \n",
        "list_of_users = list(set(review_df_min15_train.user_id) & set(review_df_min15_test.user_id))\n",
        "list_of_users=[int(i) for i in list_of_users]"
      ]
    },
    {
      "cell_type": "code",
      "execution_count": 4,
      "metadata": {},
      "outputs": [
        {
          "name": "stdout",
          "output_type": "stream",
          "text": [
            "0.96\n",
            "0.51\n",
            "0.96\n",
            "0.51\n",
            "0.9508333333333333\n",
            "0.49933333333333335\n",
            "0.933958152958153\n",
            "0.43574999999999997\n",
            "0.8056956628570573\n",
            "0.2652619047619048\n",
            "0.6591507936507935\n",
            "0.13374781427722604\n",
            "0.37676262626262635\n",
            "0.030438403701561593\n",
            "0.12666666666666665\n",
            "0.0045000000000000005\n",
            "0.01\n",
            "0.0016666666666666666\n",
            "0.01\n",
            "0.0014285714285714286\n",
            "0.0\n",
            "0.0\n"
          ]
        }
      ],
      "source": [
        "#Sensitivity and 1-Specificity calculation for ROC_AUC calcuation \n",
        "x =list()\n",
        "y =list()\n",
        "for i in number_list:\n",
        "    sensitivity, om_specificity = ROC(list_of_users,i)\n",
        "    print(sum(sens for sens in sensitivity.values()) / len(sensitivity))\n",
        "    print(sum(oms for oms in om_specificity.values()) / len(om_specificity))\n",
        "    y.append(sum(sens for sens in sensitivity.values()) / len(sensitivity))\n",
        "    x.append(sum(oms for oms in om_specificity.values()) / len(om_specificity))"
      ]
    },
    {
      "cell_type": "code",
      "execution_count": 5,
      "metadata": {},
      "outputs": [
        {
          "data": {
            "image/png": "[encoded data removed]",
            "text/plain": [
              "<Figure size 640x480 with 1 Axes>"
            ]
          },
          "metadata": {},
          "output_type": "display_data"
        }
      ],
      "source": [
        "import matplotlib.pyplot as plt\n",
        "from sklearn.metrics import auc\n",
        "fig, ax = plt.subplots()\n",
        "\n",
        "ax.plot(x, y, color='blue')\n",
        "ax.set_xlabel('1-specificity')\n",
        "ax.set_ylabel('sensitivity')\n",
        "\n",
        "plt.savefig('ROC_Content_Based.png', dpi=300, bbox_inches='tight')\n",
        "plt.show()"
      ]
    },
    {
      "cell_type": "code",
      "execution_count": null,
      "metadata": {},
      "outputs": [],
      "source": [
        "roc_auc = auc(x, y)\n",
        "\n",
        "# Print the AUC value\n",
        "print(roc_auc)"
      ]
    },
    {
      "cell_type": "code",
      "execution_count": 7,
      "metadata": {},
      "outputs": [],
      "source": [
        "#Saving data for final plot\n",
        "content_based_df = pd.DataFrame({'x': x, 'y': y})\n",
        "content_based_df.to_csv(\"ROC_content_based_data.csv\")"
      ]
    }
  ],
  "metadata": {
    "accelerator": "GPU",
    "colab": {
      "private_outputs": true,
      "provenance": []
    },
    "gpuClass": "standard",
    "kernelspec": {
      "display_name": "Python 3",
      "language": "python",
      "name": "python3"
    },
    "language_info": {
      "codemirror_mode": {
        "name": "ipython",
        "version": 3
      },
      "file_extension": ".py",
      "mimetype": "text/x-python",
      "name": "python",
      "nbconvert_exporter": "python",
      "pygments_lexer": "ipython3",
      "version": "3.10.7"
    },
    "orig_nbformat": 4,
    "vscode": {
      "interpreter": {
        "hash": "9ac664f31ce9e582916020b5b8046bc83acb2e297e3f76224f17142c8fe87645"
      }
    }
  },
  "nbformat": 4,
  "nbformat_minor": 0
}
