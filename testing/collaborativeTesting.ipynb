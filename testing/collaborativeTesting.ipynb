{
  "cells": [
    {
      "cell_type": "code",
      "execution_count": 1,
      "metadata": {
        "id": "_pIk1YMHq9mg"
      },
      "outputs": [],
      "source": [
        "import pandas as pd\n",
        "from collections import defaultdict\n",
        "\n",
        "# Reading the dataset\n",
        "review_df = pd.read_json('../dataset/reviews.jl', lines=True, encoding='utf-8')\n",
        "game_df = pd.read_json('../dataset/games.jl', lines=True, encoding='utf-8')\n",
        "\n",
        "# Merging review and game dataset for processing\n",
        "df = review_df.merge(game_df, how=\"inner\", right_on='id', left_on='product_id')\n",
        "df = df[['user_id', 'app_name', 'product_id', 'recommended']]\n",
        "df.drop_duplicates(subset=['user_id', 'app_name', 'product_id'], inplace=True)\n",
        "df = df.dropna()\n",
        "\n",
        "# Finding users who have given a minimum of 100 reviews\n",
        "game_count = df.groupby('user_id')['product_id'].count().sort_values(ascending=True)\n",
        "game_count = game_count[game_count > 100]\n",
        "common_games = df[df['user_id'].isin(game_count.index)]\n",
        "common_games = common_games.sample(common_games.shape[0], random_state=50)\n",
        "\n",
        "# Getting 80 percentage of the data as training data and 20% as testing data\n",
        "common_games_train = common_games.head(int(len(common_games)*(80/100)))\n",
        "common_games_test = common_games[~common_games.index.isin(common_games_train.index)]\n",
        "common_games_test = common_games_test[['product_id', 'user_id', 'recommended']]\n",
        "\n",
        "# Creating a csv file to find hybrid ROC-AUC\n",
        "common_games[['user_id', 'product_id', 'recommended']].to_csv('cg_collaborative.csv')\n",
        "\n",
        "# Creating the user game pivot table dataframe\n",
        "user_game_df = pd.pivot_table(common_games_train, index=['user_id'], columns=['product_id'], values='recommended')\n",
        "\n",
        "# Function to find recommendations for a given user_id\n",
        "def recommendation(user_id):\n",
        "\n",
        "    # Getting games played by the particular user_id\n",
        "    random_user_df = user_game_df[user_game_df.index == user_id]\n",
        "    games_played = random_user_df.columns[random_user_df.notna().any()].tolist()\n",
        "\n",
        "    # Restricting columns to only the games played by the particular user\n",
        "    games_played_df = user_game_df[games_played]\n",
        "    user_game_count = games_played_df.T.notnull().sum()\n",
        "    user_game_count = user_game_count.reset_index()\n",
        "    user_game_count.columns = [\"user_id\", \"game_count\"]\n",
        "    users_same_games = user_game_count[user_game_count[\"game_count\"] > 0][\"user_id\"]\n",
        "    final_df = pd.concat([games_played_df[games_played_df.index.isin(users_same_games.values)],\n",
        "                          random_user_df[games_played]])\n",
        "\n",
        "    # Finding correlation between users who have played the same games played the particular user\n",
        "    correlation_df = final_df.T.corr(\n",
        "        method='kendall').unstack().sort_values().drop_duplicates()\n",
        "    correlation_df = pd.DataFrame(correlation_df, columns=[\"corr\"])\n",
        "    correlation_df.index.names = ['user_id_1', 'user_id_2']\n",
        "    correlation_df = correlation_df.reset_index()\n",
        "\n",
        "    # Finding positively correlated users\n",
        "    positive_corr_users = correlation_df[(correlation_df[\"user_id_1\"] == user_id) & (\n",
        "        correlation_df[\"corr\"] >= 0)][[\"user_id_2\", \"corr\"]].reset_index(drop=True)\n",
        "    positive_corr_users = positive_corr_users.sort_values(by='corr', ascending=False)\n",
        "    positive_corr_users.rename(columns={\"user_id_2\": \"user_id\"}, inplace=True)\n",
        "    positive_corr_users_ratings = positive_corr_users.merge(\n",
        "        review_df[[\"user_id\", \"product_id\", \"recommended\"]], how='inner')\n",
        "    positive_corr_users_ratings = positive_corr_users_ratings[positive_corr_users_ratings[\"user_id\"] != user_id]\n",
        "    positive_corr_users_ratings['weighted_rating'] = positive_corr_users_ratings['corr'] * \\\n",
        "        positive_corr_users_ratings['recommended']\n",
        "\n",
        "    recommendation_df = positive_corr_users_ratings.groupby(\n",
        "        'product_id').agg({\"weighted_rating\": \"mean\"})\n",
        "    recommendation_df = recommendation_df.reset_index()\n",
        "    recommendation_df.sort_values(by='weighted_rating', ascending=False).head()\n",
        "    games_to_be_recommend = recommendation_df[recommendation_df[\"weighted_rating\"] > 0].sort_values(\n",
        "        \"weighted_rating\", ascending=False)\n",
        "    final_game_suggestions = games_to_be_recommend.merge(\n",
        "        game_df[[\"id\", \"title\"]], left_on='product_id', right_on='id')[['product_id', 'weighted_rating']]\n",
        "    \n",
        "    # Making sure already played games are not recommended\n",
        "    final_game_suggestions =final_game_suggestions[~final_game_suggestions.product_id.isin(games_played)]\n",
        "    final_game_suggestions = final_game_suggestions.values.tolist()\n",
        "    return final_game_suggestions\n",
        "\n",
        "\n",
        "# Testing\n",
        "def ROC(list_of_users, threshold):\n",
        "\n",
        "    user_predictions = defaultdict(list)\n",
        "\n",
        "    for uid in list_of_users:\n",
        "        pred = recommendation(uid)\n",
        "        user_predictions[uid].append(pred)\n",
        "\n",
        "    om_specificity = dict()\n",
        "    sensitivity = dict()\n",
        "    for uid, games in user_predictions.items():\n",
        "\n",
        "        # Recommended liked games\n",
        "        reco_l_games = [product_id for product_id,\n",
        "                        weighted_avg in games[0] if weighted_avg > threshold]\n",
        "        reco_l_games = set(reco_l_games)\n",
        "\n",
        "        # Recommended unliked games\n",
        "        reco_ul_games = [product_id for product_id,\n",
        "                         weighted_avg in games[0] if weighted_avg < threshold]\n",
        "        reco_ul_games = set(reco_ul_games)\n",
        "\n",
        "        common_games_t = common_games_test[common_games_test.user_id == uid]\n",
        "        ul_games = common_games_t[common_games_t.recommended ==\n",
        "                                  0]['product_id'].values.tolist()\n",
        "        ul_games = set(ul_games)\n",
        "        l_games = common_games_t[common_games_t.recommended ==\n",
        "                                 1]['product_id'].values.tolist()\n",
        "        l_games = set(l_games)\n",
        "\n",
        "        true_positives = l_games & reco_l_games\n",
        "        false_negatives = ul_games & reco_ul_games\n",
        "        false_positives = ul_games & reco_l_games\n",
        "        true_negatives = l_games & reco_ul_games\n",
        "\n",
        "        om_specificity[uid] = len(false_positives) / (len(false_positives) + len(\n",
        "            true_negatives)) if (len(false_positives) + len(true_negatives)) != 0 else 0\n",
        "        sensitivity[uid] = len(true_positives) / (len(true_positives) + len(\n",
        "            false_negatives)) if (len(true_positives) + len(false_negatives)) != 0 else 0\n",
        "\n",
        "    return sensitivity, om_specificity\n",
        "\n"
      ]
    },
    {
      "cell_type": "code",
      "execution_count": 2,
      "metadata": {},
      "outputs": [],
      "source": [
        "#Creating a list of threshold values for ROC_AUC calculation\n",
        "number_list = []\n",
        "s = 0\n",
        "e = 1\n",
        "number_gap = 0.1\n",
        "for i in range(int((e-s)/number_gap)+1):\n",
        "    number_list.append(s + i*number_gap)\n",
        "\n",
        "#Cumulating list of users common between training and testing data    \n",
        "list_of_users = list(set(common_games_train.user_id) & set(common_games_test.user_id))\n",
        "list_of_users=[int(i) for i in list_of_users]"
      ]
    },
    {
      "cell_type": "code",
      "execution_count": 6,
      "metadata": {},
      "outputs": [],
      "source": [
        "#Sensitivity and 1-Specificity calculation for ROC_AUC calcuation \n",
        "x =list()\n",
        "y =list()\n",
        "for i in number_list:\n",
        "    sensitivity, om_specificity = ROC(list_of_users,i)\n",
        "    y.append(sum(sens for sens in sensitivity.values()) / len(sensitivity))\n",
        "    x.append(sum(oms for oms in om_specificity.values()) / len(om_specificity))"
      ]
    },
    {
      "cell_type": "code",
      "execution_count": 9,
      "metadata": {},
      "outputs": [
        {
          "data": {
            "image/png": "[encoded data removed]",
            "text/plain": [
              "<Figure size 640x480 with 1 Axes>"
            ]
          },
          "metadata": {},
          "output_type": "display_data"
        }
      ],
      "source": [
        "import matplotlib.pyplot as plt\n",
        "from sklearn.metrics import auc\n",
        "fig, ax = plt.subplots()\n",
        "\n",
        "ax.plot(x, y, color='red')\n",
        "ax.set_xlabel('1-specificity')\n",
        "ax.set_ylabel('sensitivity')\n",
        "\n",
        "plt.savefig('ROC_Collaborative.png', dpi=300, bbox_inches='tight')\n",
        "plt.show()"
      ]
    },
    {
      "cell_type": "code",
      "execution_count": null,
      "metadata": {},
      "outputs": [],
      "source": [
        "roc_auc = auc(x, y)\n",
        "\n",
        "# Print the AUC value\n",
        "print(roc_auc)"
      ]
    },
    {
      "cell_type": "code",
      "execution_count": 10,
      "metadata": {},
      "outputs": [],
      "source": [
        "#Saving data for final plot\n",
        "collaborative_df = pd.DataFrame({'x': x, 'y': y})\n",
        "collaborative_df.to_csv(\"ROC_collaborative_data.csv\")"
      ]
    }
  ],
  "metadata": {
    "accelerator": "GPU",
    "colab": {
      "private_outputs": true,
      "provenance": []
    },
    "gpuClass": "standard",
    "kernelspec": {
      "display_name": "Python 3",
      "language": "python",
      "name": "python3"
    },
    "language_info": {
      "codemirror_mode": {
        "name": "ipython",
        "version": 3
      },
      "file_extension": ".py",
      "mimetype": "text/x-python",
      "name": "python",
      "nbconvert_exporter": "python",
      "pygments_lexer": "ipython3",
      "version": "3.10.7"
    },
    "orig_nbformat": 4,
    "vscode": {
      "interpreter": {
        "hash": "9ac664f31ce9e582916020b5b8046bc83acb2e297e3f76224f17142c8fe87645"
      }
    }
  },
  "nbformat": 4,
  "nbformat_minor": 0
}
